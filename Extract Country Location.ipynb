{
 "cells": [
  {
   "cell_type": "code",
   "execution_count": 1,
   "metadata": {},
   "outputs": [],
   "source": [
    "import pandas as pd"
   ]
  },
  {
   "cell_type": "code",
   "execution_count": 4,
   "metadata": {},
   "outputs": [
    {
     "data": {
      "text/html": [
       "<div>\n",
       "<style scoped>\n",
       "    .dataframe tbody tr th:only-of-type {\n",
       "        vertical-align: middle;\n",
       "    }\n",
       "\n",
       "    .dataframe tbody tr th {\n",
       "        vertical-align: top;\n",
       "    }\n",
       "\n",
       "    .dataframe thead th {\n",
       "        text-align: right;\n",
       "    }\n",
       "</style>\n",
       "<table border=\"1\" class=\"dataframe\">\n",
       "  <thead>\n",
       "    <tr style=\"text-align: right;\">\n",
       "      <th></th>\n",
       "      <th>Station</th>\n",
       "      <th>Coordinates</th>\n",
       "      <th>Location</th>\n",
       "    </tr>\n",
       "  </thead>\n",
       "  <tbody>\n",
       "    <tr>\n",
       "      <th>0</th>\n",
       "      <td>EB31</td>\n",
       "      <td>{0: '27.000N', 1: '86.000W'}</td>\n",
       "      <td>NaN</td>\n",
       "    </tr>\n",
       "    <tr>\n",
       "      <th>1</th>\n",
       "      <td>MEYC1</td>\n",
       "      <td>{0: '36.605N', 1: '121.889W'}</td>\n",
       "      <td>Municipal Wharf Number 2, Municipal Wharf 2, N...</td>\n",
       "    </tr>\n",
       "    <tr>\n",
       "      <th>2</th>\n",
       "      <td>EGKF1</td>\n",
       "      <td>{0: '27.601N', 1: '82.759W'}</td>\n",
       "      <td>Original Brick Road 1898, Fort De Soto, Pinell...</td>\n",
       "    </tr>\n",
       "    <tr>\n",
       "      <th>3</th>\n",
       "      <td>46255</td>\n",
       "      <td>{0: '33.400N', 1: '119.651W'}</td>\n",
       "      <td>Ventura County, California, United States</td>\n",
       "    </tr>\n",
       "    <tr>\n",
       "      <th>4</th>\n",
       "      <td>EMAT2</td>\n",
       "      <td>{0: '28.710N', 1: '95.914W'}</td>\n",
       "      <td>South Gulf Road, Gulf, Matagorda, Matagorda Co...</td>\n",
       "    </tr>\n",
       "  </tbody>\n",
       "</table>\n",
       "</div>"
      ],
      "text/plain": [
       "  Station                    Coordinates  \\\n",
       "0    EB31   {0: '27.000N', 1: '86.000W'}   \n",
       "1   MEYC1  {0: '36.605N', 1: '121.889W'}   \n",
       "2   EGKF1   {0: '27.601N', 1: '82.759W'}   \n",
       "3   46255  {0: '33.400N', 1: '119.651W'}   \n",
       "4   EMAT2   {0: '28.710N', 1: '95.914W'}   \n",
       "\n",
       "                                            Location  \n",
       "0                                                NaN  \n",
       "1  Municipal Wharf Number 2, Municipal Wharf 2, N...  \n",
       "2  Original Brick Road 1898, Fort De Soto, Pinell...  \n",
       "3          Ventura County, California, United States  \n",
       "4  South Gulf Road, Gulf, Matagorda, Matagorda Co...  "
      ]
     },
     "execution_count": 4,
     "metadata": {},
     "output_type": "execute_result"
    }
   ],
   "source": [
    "df = pd.read_csv('/Users/rachit/Desktop/Fall 2023/CSE 6242 DVA/PROJECT TIDAL/coordinates_with_Location.csv')\n",
    "df.head()"
   ]
  },
  {
   "cell_type": "code",
   "execution_count": 5,
   "metadata": {},
   "outputs": [
    {
     "data": {
      "text/html": [
       "<div>\n",
       "<style scoped>\n",
       "    .dataframe tbody tr th:only-of-type {\n",
       "        vertical-align: middle;\n",
       "    }\n",
       "\n",
       "    .dataframe tbody tr th {\n",
       "        vertical-align: top;\n",
       "    }\n",
       "\n",
       "    .dataframe thead th {\n",
       "        text-align: right;\n",
       "    }\n",
       "</style>\n",
       "<table border=\"1\" class=\"dataframe\">\n",
       "  <thead>\n",
       "    <tr style=\"text-align: right;\">\n",
       "      <th></th>\n",
       "      <th>Location</th>\n",
       "      <th>Country</th>\n",
       "    </tr>\n",
       "  </thead>\n",
       "  <tbody>\n",
       "    <tr>\n",
       "      <th>0</th>\n",
       "      <td>NaN</td>\n",
       "      <td>None</td>\n",
       "    </tr>\n",
       "    <tr>\n",
       "      <th>1</th>\n",
       "      <td>Municipal Wharf Number 2, Municipal Wharf 2, N...</td>\n",
       "      <td>United States</td>\n",
       "    </tr>\n",
       "    <tr>\n",
       "      <th>2</th>\n",
       "      <td>Original Brick Road 1898, Fort De Soto, Pinell...</td>\n",
       "      <td>United States</td>\n",
       "    </tr>\n",
       "    <tr>\n",
       "      <th>3</th>\n",
       "      <td>Ventura County, California, United States</td>\n",
       "      <td>United States</td>\n",
       "    </tr>\n",
       "    <tr>\n",
       "      <th>4</th>\n",
       "      <td>South Gulf Road, Gulf, Matagorda, Matagorda Co...</td>\n",
       "      <td>United States</td>\n",
       "    </tr>\n",
       "  </tbody>\n",
       "</table>\n",
       "</div>"
      ],
      "text/plain": [
       "                                            Location        Country\n",
       "0                                                NaN           None\n",
       "1  Municipal Wharf Number 2, Municipal Wharf 2, N...  United States\n",
       "2  Original Brick Road 1898, Fort De Soto, Pinell...  United States\n",
       "3          Ventura County, California, United States  United States\n",
       "4  South Gulf Road, Gulf, Matagorda, Matagorda Co...  United States"
      ]
     },
     "execution_count": 5,
     "metadata": {},
     "output_type": "execute_result"
    }
   ],
   "source": [
    "# Function to extract country from the location string\n",
    "def extract_country(location):\n",
    "    if pd.isna(location):\n",
    "        return None\n",
    "    parts = location.split(',')\n",
    "    # Assuming the country is the last part\n",
    "    return parts[-1].strip()\n",
    "\n",
    "# Apply the function to the 'Location' column\n",
    "df['Country'] = df['Location'].apply(extract_country)\n",
    "\n",
    "# Display the updated dataframe\n",
    "df[['Location', 'Country']].head()"
   ]
  },
  {
   "cell_type": "code",
   "execution_count": 10,
   "metadata": {},
   "outputs": [
    {
     "name": "stdout",
     "output_type": "stream",
     "text": [
      "[None 'United States' 'Ṃajeḷ' 'México' 'Bahamas' 'Colombia'\n",
      " 'Trinidad and Tobago' 'Canada' 'Antigua and Barbuda' 'Bermuda'\n",
      " 'República Dominicana' 'C Tower' 'BULLWINKLE' 'Cayman Islands'\n",
      " 'Micronesia' 'Belau']\n"
     ]
    }
   ],
   "source": [
    "df['Country'] = df['Country'].replace('The Bahamas', 'Bahamas')\n",
    "print(df['Country'].unique())\n",
    "\n",
    "\n"
   ]
  },
  {
   "cell_type": "code",
   "execution_count": 11,
   "metadata": {},
   "outputs": [
    {
     "data": {
      "text/plain": [
       "Station          0\n",
       "Coordinates      0\n",
       "Location       319\n",
       "Country        319\n",
       "dtype: int64"
      ]
     },
     "execution_count": 11,
     "metadata": {},
     "output_type": "execute_result"
    }
   ],
   "source": [
    "df.isna().sum()"
   ]
  },
  {
   "cell_type": "code",
   "execution_count": 22,
   "metadata": {},
   "outputs": [],
   "source": [
    "df.to_csv('/Users/rachit/Desktop/Fall 2023/CSE 6242 DVA/PROJECT TIDAL/coordinates_with_Location.csv', index=False)"
   ]
  },
  {
   "cell_type": "code",
   "execution_count": 29,
   "metadata": {},
   "outputs": [
    {
     "name": "stdout",
     "output_type": "stream",
     "text": [
      "Requirement already satisfied: geopy in /Library/Frameworks/Python.framework/Versions/3.12/lib/python3.12/site-packages (2.4.1)\n",
      "Requirement already satisfied: geographiclib<3,>=1.52 in /Library/Frameworks/Python.framework/Versions/3.12/lib/python3.12/site-packages (from geopy) (2.0)\n",
      "Note: you may need to restart the kernel to use updated packages.\n"
     ]
    }
   ],
   "source": [
    "pip install geopy"
   ]
  },
  {
   "cell_type": "code",
   "execution_count": 32,
   "metadata": {},
   "outputs": [],
   "source": [
    "import pandas as pd\n",
    "from geopy.geocoders import Nominatim\n",
    "import numpy as np\n",
    "\n",
    "buoy_data = pd.read_excel('/Users/rachit/Desktop/Fall 2023/CSE 6242 DVA/PROJECT TIDAL/ExportAvgEnergy.xlxs.xls')\n",
    "\n"
   ]
  },
  {
   "cell_type": "code",
   "execution_count": 33,
   "metadata": {},
   "outputs": [],
   "source": [
    "geolocator = Nominatim(user_agent=\"geoapiExercises\")\n",
    "\n",
    "def get_country(lat, lon):\n",
    "    try:\n",
    "        location = geolocator.reverse((lat, lon), language='en')\n",
    "        country = location.raw['address']['country']\n",
    "        return country\n",
    "    except:\n",
    "        return np.nan\n",
    "\n",
    "# Apply the get_country function to each row\n",
    "buoy_data['Country'] = buoy_data.apply(lambda row: get_country(row['Latitude'], row['Longitude']), axis=1)\n"
   ]
  },
  {
   "cell_type": "code",
   "execution_count": 36,
   "metadata": {},
   "outputs": [],
   "source": [
    "buoy_data.to_csv('revisedAvgPower.xlsx', index=False)"
   ]
  },
  {
   "cell_type": "code",
   "execution_count": 37,
   "metadata": {},
   "outputs": [
    {
     "data": {
      "text/html": [
       "<div>\n",
       "<style scoped>\n",
       "    .dataframe tbody tr th:only-of-type {\n",
       "        vertical-align: middle;\n",
       "    }\n",
       "\n",
       "    .dataframe tbody tr th {\n",
       "        vertical-align: top;\n",
       "    }\n",
       "\n",
       "    .dataframe thead th {\n",
       "        text-align: right;\n",
       "    }\n",
       "</style>\n",
       "<table border=\"1\" class=\"dataframe\">\n",
       "  <thead>\n",
       "    <tr style=\"text-align: right;\">\n",
       "      <th></th>\n",
       "      <th>Avg Power By Year</th>\n",
       "      <th>Coord</th>\n",
       "      <th>Station Id</th>\n",
       "      <th>Year</th>\n",
       "      <th>Avg Power</th>\n",
       "      <th>Latitude</th>\n",
       "      <th>Longitude</th>\n",
       "      <th>Country</th>\n",
       "    </tr>\n",
       "  </thead>\n",
       "  <tbody>\n",
       "    <tr>\n",
       "      <th>0</th>\n",
       "      <td>48538.536317</td>\n",
       "      <td>{0: '22.162N', 1: '38.500E'}</td>\n",
       "      <td>23020</td>\n",
       "      <td>2008-01-01</td>\n",
       "      <td>33054.123522</td>\n",
       "      <td>22.162</td>\n",
       "      <td>38.5</td>\n",
       "      <td>NaN</td>\n",
       "    </tr>\n",
       "    <tr>\n",
       "      <th>1</th>\n",
       "      <td>32840.285668</td>\n",
       "      <td>{0: '22.162N', 1: '38.500E'}</td>\n",
       "      <td>23020</td>\n",
       "      <td>2009-01-01</td>\n",
       "      <td>38612.544919</td>\n",
       "      <td>22.162</td>\n",
       "      <td>38.5</td>\n",
       "      <td>NaN</td>\n",
       "    </tr>\n",
       "    <tr>\n",
       "      <th>2</th>\n",
       "      <td>34950.344952</td>\n",
       "      <td>{0: '22.162N', 1: '38.500E'}</td>\n",
       "      <td>23020</td>\n",
       "      <td>2010-01-01</td>\n",
       "      <td>34413.988622</td>\n",
       "      <td>22.162</td>\n",
       "      <td>38.5</td>\n",
       "      <td>NaN</td>\n",
       "    </tr>\n",
       "    <tr>\n",
       "      <th>3</th>\n",
       "      <td>131805.856347</td>\n",
       "      <td>{0: '9.900S', 1: '105.200W'}</td>\n",
       "      <td>32301</td>\n",
       "      <td>1984-01-01</td>\n",
       "      <td>289635.213012</td>\n",
       "      <td>-9.900</td>\n",
       "      <td>-105.2</td>\n",
       "      <td>NaN</td>\n",
       "    </tr>\n",
       "    <tr>\n",
       "      <th>4</th>\n",
       "      <td>95820.001639</td>\n",
       "      <td>{0: '18.000S', 1: '85.100W'}</td>\n",
       "      <td>32302</td>\n",
       "      <td>1993-01-01</td>\n",
       "      <td>340131.550126</td>\n",
       "      <td>-18.000</td>\n",
       "      <td>-85.1</td>\n",
       "      <td>NaN</td>\n",
       "    </tr>\n",
       "  </tbody>\n",
       "</table>\n",
       "</div>"
      ],
      "text/plain": [
       "   Avg Power By Year                         Coord Station Id       Year  \\\n",
       "0       48538.536317  {0: '22.162N', 1: '38.500E'}      23020 2008-01-01   \n",
       "1       32840.285668  {0: '22.162N', 1: '38.500E'}      23020 2009-01-01   \n",
       "2       34950.344952  {0: '22.162N', 1: '38.500E'}      23020 2010-01-01   \n",
       "3      131805.856347  {0: '9.900S', 1: '105.200W'}      32301 1984-01-01   \n",
       "4       95820.001639  {0: '18.000S', 1: '85.100W'}      32302 1993-01-01   \n",
       "\n",
       "       Avg Power  Latitude  Longitude  Country  \n",
       "0   33054.123522    22.162       38.5      NaN  \n",
       "1   38612.544919    22.162       38.5      NaN  \n",
       "2   34413.988622    22.162       38.5      NaN  \n",
       "3  289635.213012    -9.900     -105.2      NaN  \n",
       "4  340131.550126   -18.000      -85.1      NaN  "
      ]
     },
     "execution_count": 37,
     "metadata": {},
     "output_type": "execute_result"
    }
   ],
   "source": [
    "buoy_data.head()"
   ]
  },
  {
   "cell_type": "code",
   "execution_count": 38,
   "metadata": {},
   "outputs": [],
   "source": [
    "from geopy.geocoders import Nominatim\n",
    "import pandas as pd\n",
    "import numpy as np\n",
    "\n",
    "# Initialize the geolocator\n",
    "geolocator = Nominatim(user_agent=\"geoapiExercises\")\n",
    "\n",
    "def get_country_or_ocean(lat, lon):\n",
    "    try:\n",
    "        location = geolocator.reverse((lat, lon), language='en')\n",
    "        if 'country' in location.raw['address']:\n",
    "            return location.raw['address']['country']\n",
    "        elif 'sea' in location.raw['address']:\n",
    "            return location.raw['address']['sea']\n",
    "        else:\n",
    "            return 'Ocean'\n",
    "    except:\n",
    "        return np.nan\n"
   ]
  },
  {
   "cell_type": "code",
   "execution_count": 39,
   "metadata": {},
   "outputs": [
    {
     "data": {
      "text/html": [
       "<div>\n",
       "<style scoped>\n",
       "    .dataframe tbody tr th:only-of-type {\n",
       "        vertical-align: middle;\n",
       "    }\n",
       "\n",
       "    .dataframe tbody tr th {\n",
       "        vertical-align: top;\n",
       "    }\n",
       "\n",
       "    .dataframe thead th {\n",
       "        text-align: right;\n",
       "    }\n",
       "</style>\n",
       "<table border=\"1\" class=\"dataframe\">\n",
       "  <thead>\n",
       "    <tr style=\"text-align: right;\">\n",
       "      <th></th>\n",
       "      <th>Avg Power By Year</th>\n",
       "      <th>Coord</th>\n",
       "      <th>Station Id</th>\n",
       "      <th>Year</th>\n",
       "      <th>Avg Power</th>\n",
       "      <th>Latitude</th>\n",
       "      <th>Longitude</th>\n",
       "      <th>Country</th>\n",
       "      <th>Country_or_Ocean</th>\n",
       "    </tr>\n",
       "  </thead>\n",
       "  <tbody>\n",
       "    <tr>\n",
       "      <th>0</th>\n",
       "      <td>48538.536317</td>\n",
       "      <td>{0: '22.162N', 1: '38.500E'}</td>\n",
       "      <td>23020</td>\n",
       "      <td>2008-01-01</td>\n",
       "      <td>33054.123522</td>\n",
       "      <td>22.162</td>\n",
       "      <td>38.5</td>\n",
       "      <td>NaN</td>\n",
       "      <td>NaN</td>\n",
       "    </tr>\n",
       "    <tr>\n",
       "      <th>1</th>\n",
       "      <td>32840.285668</td>\n",
       "      <td>{0: '22.162N', 1: '38.500E'}</td>\n",
       "      <td>23020</td>\n",
       "      <td>2009-01-01</td>\n",
       "      <td>38612.544919</td>\n",
       "      <td>22.162</td>\n",
       "      <td>38.5</td>\n",
       "      <td>NaN</td>\n",
       "      <td>NaN</td>\n",
       "    </tr>\n",
       "    <tr>\n",
       "      <th>2</th>\n",
       "      <td>34950.344952</td>\n",
       "      <td>{0: '22.162N', 1: '38.500E'}</td>\n",
       "      <td>23020</td>\n",
       "      <td>2010-01-01</td>\n",
       "      <td>34413.988622</td>\n",
       "      <td>22.162</td>\n",
       "      <td>38.5</td>\n",
       "      <td>NaN</td>\n",
       "      <td>NaN</td>\n",
       "    </tr>\n",
       "    <tr>\n",
       "      <th>3</th>\n",
       "      <td>131805.856347</td>\n",
       "      <td>{0: '9.900S', 1: '105.200W'}</td>\n",
       "      <td>32301</td>\n",
       "      <td>1984-01-01</td>\n",
       "      <td>289635.213012</td>\n",
       "      <td>-9.900</td>\n",
       "      <td>-105.2</td>\n",
       "      <td>NaN</td>\n",
       "      <td>NaN</td>\n",
       "    </tr>\n",
       "    <tr>\n",
       "      <th>4</th>\n",
       "      <td>95820.001639</td>\n",
       "      <td>{0: '18.000S', 1: '85.100W'}</td>\n",
       "      <td>32302</td>\n",
       "      <td>1993-01-01</td>\n",
       "      <td>340131.550126</td>\n",
       "      <td>-18.000</td>\n",
       "      <td>-85.1</td>\n",
       "      <td>NaN</td>\n",
       "      <td>NaN</td>\n",
       "    </tr>\n",
       "  </tbody>\n",
       "</table>\n",
       "</div>"
      ],
      "text/plain": [
       "   Avg Power By Year                         Coord Station Id       Year  \\\n",
       "0       48538.536317  {0: '22.162N', 1: '38.500E'}      23020 2008-01-01   \n",
       "1       32840.285668  {0: '22.162N', 1: '38.500E'}      23020 2009-01-01   \n",
       "2       34950.344952  {0: '22.162N', 1: '38.500E'}      23020 2010-01-01   \n",
       "3      131805.856347  {0: '9.900S', 1: '105.200W'}      32301 1984-01-01   \n",
       "4       95820.001639  {0: '18.000S', 1: '85.100W'}      32302 1993-01-01   \n",
       "\n",
       "       Avg Power  Latitude  Longitude  Country  Country_or_Ocean  \n",
       "0   33054.123522    22.162       38.5      NaN               NaN  \n",
       "1   38612.544919    22.162       38.5      NaN               NaN  \n",
       "2   34413.988622    22.162       38.5      NaN               NaN  \n",
       "3  289635.213012    -9.900     -105.2      NaN               NaN  \n",
       "4  340131.550126   -18.000      -85.1      NaN               NaN  "
      ]
     },
     "execution_count": 39,
     "metadata": {},
     "output_type": "execute_result"
    }
   ],
   "source": [
    "buoy_data['Country_or_Ocean'] = buoy_data.apply(lambda row: get_country_or_ocean(row['Latitude'], row['Longitude']), axis=1)\n",
    "buoy_data.head()"
   ]
  },
  {
   "cell_type": "code",
   "execution_count": 40,
   "metadata": {},
   "outputs": [
    {
     "data": {
      "text/plain": [
       "array([nan])"
      ]
     },
     "execution_count": 40,
     "metadata": {},
     "output_type": "execute_result"
    }
   ],
   "source": [
    "buoy_data['Country_or_Ocean'].unique()"
   ]
  },
  {
   "cell_type": "code",
   "execution_count": null,
   "metadata": {},
   "outputs": [],
   "source": []
  }
 ],
 "metadata": {
  "kernelspec": {
   "display_name": "Python 3",
   "language": "python",
   "name": "python3"
  },
  "language_info": {
   "codemirror_mode": {
    "name": "ipython",
    "version": 3
   },
   "file_extension": ".py",
   "mimetype": "text/x-python",
   "name": "python",
   "nbconvert_exporter": "python",
   "pygments_lexer": "ipython3",
   "version": "3.12.0"
  }
 },
 "nbformat": 4,
 "nbformat_minor": 2
}
