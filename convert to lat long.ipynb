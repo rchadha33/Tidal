import pandas as pd

# Load the CSV file
file_path = '/Users/rachit/Desktop/Fall 2023/CSE 6242 DVA/PROJECT TIDAL/avg_by_year_wave_data.csv'
df = pd.read_csv(file_path)

# Define a function to extract latitude and longitude from the coordinate string
def extract_lat_long(coord_str):
    # Extracting latitude
    lat_start = coord_str.find("'") + 1
    lat_end = coord_str.find("'", lat_start)
    latitude = coord_str[lat_start:lat_end]

    # Extracting longitude
    long_start = coord_str.rfind("'") + 1
    long_end = coord_str.rfind("'", long_start)
    longitude = coord_str[long_start:long_end]

    return latitude, longitude

# Apply the function to the 'Coord' column
df['Latitude'], df['Longitude'] = zip(*df['Coord'].apply(extract_lat_long))

# Check the resulting DataFrame
df.head()
